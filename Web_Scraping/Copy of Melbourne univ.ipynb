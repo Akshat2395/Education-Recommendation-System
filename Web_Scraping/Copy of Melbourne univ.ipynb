{
 "cells": [
  {
   "cell_type": "code",
   "execution_count": 1,
   "metadata": {},
   "outputs": [],
   "source": [
    "import numpy as np\n",
    "import pandas as pd\n",
    "import urllib\n",
    "from bs4 import BeautifulSoup\n",
    "import requests"
   ]
  },
  {
   "cell_type": "code",
   "execution_count": 2,
   "metadata": {},
   "outputs": [],
   "source": [
    "url = \"https://study.unimelb.edu.au/find/courses/graduate/master-of-data-science/what-will-i-study/\"\n",
    "resp = requests.get(url)\n",
    "soup = BeautifulSoup(resp.content)"
   ]
  },
  {
   "cell_type": "code",
   "execution_count": 73,
   "metadata": {},
   "outputs": [],
   "source": [
    "sp=[] # Subject program\n",
    "pt=[] #program title\n",
    "p=[]\n",
    "li=[]\n",
    "des=[] #description\n",
    "# mel=[]\n",
    "# courses={}\n",
    "for subprog in soup.find_all(name=\"div\", attrs={\"class\":\"subject-programs__subgroup-header\"}):\n",
    "    for h in subprog.find_all(name=\"h4\", attrs={\"class\":\"subject-programs__group-title\"}):\n",
    "        sp.append(h.get_text())\n",
    "# courses['Subject program'] = sp[2]\n",
    "\n",
    "for div in soup.find_all(name=\"div\", attrs={\"class\":\"subject-programs__group-panel\"}):\n",
    "    for span in div.find_all(name=\"span\", attrs={\"class\":\"subject-programs__title\"}):\n",
    "        pt.append(span.text)\n",
    "# courses['program title'] = sp1\n",
    "        \n",
    "\n",
    "# for div in soup.find_all(name=\"div\", attrs={\"class\":\"subject-programs-inner__description\"}):\n",
    "#     for p in div.find_all(name=\"p\"):\n",
    "#         p.append(p.text)\n",
    "#     for li in div.find_all(name='li'):\n",
    "#         p.append(li.text)\n",
    "# #     p.append(li)\n",
    "#     des.append(p)\n",
    "# mel.append(courses)        \n",
    "# df_melbourne = pd.DataFrame(mel)        "
   ]
  },
  {
   "cell_type": "code",
   "execution_count": 74,
   "metadata": {},
   "outputs": [
    {
     "data": {
      "text/plain": [
       "['\\n                Computer science background\\n              ',\n",
       " '\\n                Statistics background\\n              ',\n",
       " '\\n                Statistics core subjects\\n              ',\n",
       " '\\n                Computer science core subjects\\n              ',\n",
       " '\\n                Capstone project\\n              ',\n",
       " '\\n                Discipline elective subjects\\n              ',\n",
       " '\\n                Professional skills subjects\\n              ',\n",
       " '\\n                Data Science Research Project\\n              ']"
      ]
     },
     "execution_count": 74,
     "metadata": {},
     "output_type": "execute_result"
    }
   ],
   "source": [
    "sp"
   ]
  },
  {
   "cell_type": "code",
   "execution_count": 76,
   "metadata": {},
   "outputs": [
    {
     "data": {
      "text/plain": [
       "['Methods of Mathematical Statistics',\n",
       " 'A First Course In Statistical Learning',\n",
       " 'Programming and Software Development',\n",
       " 'Algorithms and Complexity',\n",
       " 'Elements of Data Processing',\n",
       " 'Database Systems & Information Modelling',\n",
       " 'Statistical Modelling for Data Science',\n",
       " 'Multivariate Statistics for Data Science',\n",
       " 'Computational Statistics & Data Science',\n",
       " 'Cluster and Cloud Computing',\n",
       " 'Statistical Machine Learning',\n",
       " 'Advanced Database Systems',\n",
       " 'Data Science Project Pt1',\n",
       " 'Data Science Project Pt2',\n",
       " 'Foundations of Spatial Information',\n",
       " 'Spatial Databases',\n",
       " 'Spatial Analysis',\n",
       " 'Information Visualisation',\n",
       " 'Analysis of High-Dimensional Data',\n",
       " 'Advanced Statistical Modelling',\n",
       " 'Mathematics of Risk',\n",
       " 'Optimisation for Industry',\n",
       " 'Practice of Statistics & Data Science',\n",
       " 'Stochastic Calculus with Applications',\n",
       " 'Advanced Probability',\n",
       " 'Random Processes',\n",
       " 'AI Planning for Autonomy',\n",
       " 'Advanced Theoretical Computer Science',\n",
       " 'Algorithms for Bioinformatics',\n",
       " 'Computational Genomics',\n",
       " 'Constraint Programming',\n",
       " 'Cryptography and Security',\n",
       " 'Declarative Programming',\n",
       " 'Distributed Algorithms',\n",
       " 'Distributed Systems',\n",
       " 'Internet Technologies',\n",
       " 'Mobile Computing Systems Programming',\n",
       " 'Parallel and Multicore Computing',\n",
       " 'Programming Language Implementation',\n",
       " 'Natural Language Processing',\n",
       " 'Stream Computing and Applications',\n",
       " 'Knowledge Management Systems',\n",
       " 'Data Warehousing',\n",
       " 'Science Communication',\n",
       " 'Communication for Research Scientists',\n",
       " 'Science in Schools',\n",
       " 'Science and Technology Internship',\n",
       " 'Data Science Research Project Pt1',\n",
       " 'Data Science Research Project Pt2']"
      ]
     },
     "execution_count": 76,
     "metadata": {},
     "output_type": "execute_result"
    }
   ],
   "source": [
    "pt"
   ]
  },
  {
   "cell_type": "code",
   "execution_count": 75,
   "metadata": {},
   "outputs": [],
   "source": [
    "# des[0]"
   ]
  },
  {
   "cell_type": "code",
   "execution_count": null,
   "metadata": {},
   "outputs": [],
   "source": []
  }
 ],
 "metadata": {
  "kernelspec": {
   "display_name": "Python 3",
   "language": "python",
   "name": "python3"
  },
  "language_info": {
   "codemirror_mode": {
    "name": "ipython",
    "version": 3
   },
   "file_extension": ".py",
   "mimetype": "text/x-python",
   "name": "python",
   "nbconvert_exporter": "python",
   "pygments_lexer": "ipython3",
   "version": "3.7.4"
  }
 },
 "nbformat": 4,
 "nbformat_minor": 2
}
