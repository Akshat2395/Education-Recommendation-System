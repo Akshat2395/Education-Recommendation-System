{
  "nbformat": 4,
  "nbformat_minor": 0,
  "metadata": {
    "kernelspec": {
      "display_name": "Python 3",
      "language": "python",
      "name": "python3"
    },
    "language_info": {
      "codemirror_mode": {
        "name": "ipython",
        "version": 3
      },
      "file_extension": ".py",
      "mimetype": "text/x-python",
      "name": "python",
      "nbconvert_exporter": "python",
      "pygments_lexer": "ipython3",
      "version": "3.7.4"
    },
    "colab": {
      "name": "Linkedin.ipynb",
      "provenance": []
    }
  },
  "cells": [
    {
      "cell_type": "code",
      "metadata": {
        "id": "U_25bX_vD7Da",
        "colab_type": "code",
        "colab": {}
      },
      "source": [
        "import numpy as np\n",
        "import pandas as pd\n",
        "import urllib\n",
        "from bs4 import BeautifulSoup\n",
        "import requests"
      ],
      "execution_count": 0,
      "outputs": []
    },
    {
      "cell_type": "code",
      "metadata": {
        "id": "2N-VguTsD7Dp",
        "colab_type": "code",
        "colab": {}
      },
      "source": [
        "sets = [25, 50, 75, 100, 125, 150, 175, 200, 225]\n",
        "links=[]\n",
        "for s in sets:\n",
        "  url=(\"https://www.linkedin.com/jobs-guest/jobs/api/seeMoreJobPostings/search?keywords=Data%2BScience&location=British%2BColumbia%2C%2BCanada&trk=public_jobs_jobs-search-bar_search-submit&start=\"+\"{}\".format(s))\n",
        "  resp = requests.get(url)\n",
        "  soup = BeautifulSoup(resp.content)\n",
        "  for li in soup.find_all(name=\"li\", attrs={\"class\":\"result-card job-result-card result-card--with-hover-state\"}):\n",
        "    for a in li.find_all(name=\"a\", attrs={\"class\":\"result-card__full-card-link\"}):\n",
        "      links.append((a[\"href\"]))"
      ],
      "execution_count": 0,
      "outputs": []
    },
    {
      "cell_type": "code",
      "metadata": {
        "id": "E7a_S6U0D7D6",
        "colab_type": "code",
        "colab": {}
      },
      "source": [
        "# links"
      ],
      "execution_count": 0,
      "outputs": []
    },
    {
      "cell_type": "code",
      "metadata": {
        "id": "fMKgDtwkD7ET",
        "colab_type": "code",
        "colab": {
          "base_uri": "https://localhost:8080/",
          "height": 34
        },
        "outputId": "094ba222-c0f6-4a0b-deac-720f835e4bd5"
      },
      "source": [
        "len(links)"
      ],
      "execution_count": 16,
      "outputs": [
        {
          "output_type": "execute_result",
          "data": {
            "text/plain": [
              "225"
            ]
          },
          "metadata": {
            "tags": []
          },
          "execution_count": 16
        }
      ]
    },
    {
      "cell_type": "code",
      "metadata": {
        "id": "u0XdR96zD7El",
        "colab_type": "code",
        "colab": {}
      },
      "source": [
        "postings=[]\n",
        "for u in links:\n",
        "    job={}\n",
        "    req = requests.get(u)\n",
        "    bs = BeautifulSoup(req.content)\n",
        "    tit = bs.find(name=\"section\", attrs={\"class\":\"topcard\"})\n",
        "    for h1 in tit.find_all(name=\"h1\", attrs={\"class\":\"topcard__title\"}):\n",
        "        job[\"Job Title\"] = h1.text\n",
        "    for com in tit.find_all(name=\"a\", attrs={\"class\":\"topcard__org-name-link topcard__flavor--black-link\"}):\n",
        "        job[\"Company\"] = com.text\n",
        "    for des in bs.find_all(name=\"section\", attrs={\"class\":\"description\"}):\n",
        "        job[\"Description\"] = des.text\n",
        "    postings.append(job)\n"
      ],
      "execution_count": 0,
      "outputs": []
    },
    {
      "cell_type": "code",
      "metadata": {
        "id": "5lNDG43dD7Ew",
        "colab_type": "code",
        "colab": {}
      },
      "source": [
        "# postings"
      ],
      "execution_count": 0,
      "outputs": []
    },
    {
      "cell_type": "code",
      "metadata": {
        "id": "bzvn8Q9wD7E-",
        "colab_type": "code",
        "colab": {}
      },
      "source": [
        "df_linkedin = pd.DataFrame(postings)"
      ],
      "execution_count": 0,
      "outputs": []
    },
    {
      "cell_type": "code",
      "metadata": {
        "id": "pl9YfN8iD7FM",
        "colab_type": "code",
        "colab": {
          "base_uri": "https://localhost:8080/",
          "height": 419
        },
        "outputId": "640c60b7-5019-429b-f3d7-cd239cedf485"
      },
      "source": [
        "df_linkedin"
      ],
      "execution_count": 20,
      "outputs": [
        {
          "output_type": "execute_result",
          "data": {
            "text/html": [
              "<div>\n",
              "<style scoped>\n",
              "    .dataframe tbody tr th:only-of-type {\n",
              "        vertical-align: middle;\n",
              "    }\n",
              "\n",
              "    .dataframe tbody tr th {\n",
              "        vertical-align: top;\n",
              "    }\n",
              "\n",
              "    .dataframe thead th {\n",
              "        text-align: right;\n",
              "    }\n",
              "</style>\n",
              "<table border=\"1\" class=\"dataframe\">\n",
              "  <thead>\n",
              "    <tr style=\"text-align: right;\">\n",
              "      <th></th>\n",
              "      <th>Job Title</th>\n",
              "      <th>Company</th>\n",
              "      <th>Description</th>\n",
              "    </tr>\n",
              "  </thead>\n",
              "  <tbody>\n",
              "    <tr>\n",
              "      <th>0</th>\n",
              "      <td>Director, Data Science</td>\n",
              "      <td>Affinity</td>\n",
              "      <td>Job Description:  On behalf of our global ente...</td>\n",
              "    </tr>\n",
              "    <tr>\n",
              "      <th>1</th>\n",
              "      <td>Director, Business &amp; Product Insights and Data...</td>\n",
              "      <td>Hootsuite</td>\n",
              "      <td>We’re looking for a Director, Business &amp; Produ...</td>\n",
              "    </tr>\n",
              "    <tr>\n",
              "      <th>2</th>\n",
              "      <td>Data Engineer</td>\n",
              "      <td>Ana-Data Consulting Canada</td>\n",
              "      <td>Posted by:Anne ToAnne ToDirector of Business D...</td>\n",
              "    </tr>\n",
              "    <tr>\n",
              "      <th>3</th>\n",
              "      <td>Quantitative Researcher</td>\n",
              "      <td>DRW</td>\n",
              "      <td>DRW is a technology-driven, diversified princi...</td>\n",
              "    </tr>\n",
              "    <tr>\n",
              "      <th>4</th>\n",
              "      <td>Customer Success Partner - Vancouver</td>\n",
              "      <td>INFARM</td>\n",
              "      <td>At Infarm we want to help solve one of the tou...</td>\n",
              "    </tr>\n",
              "    <tr>\n",
              "      <th>...</th>\n",
              "      <td>...</td>\n",
              "      <td>...</td>\n",
              "      <td>...</td>\n",
              "    </tr>\n",
              "    <tr>\n",
              "      <th>220</th>\n",
              "      <td>Intermediate Software Engineer (Algorithms)</td>\n",
              "      <td>UrtheCast</td>\n",
              "      <td>From developing computationally intensive imag...</td>\n",
              "    </tr>\n",
              "    <tr>\n",
              "      <th>221</th>\n",
              "      <td>Lecturer MANAGEMENT INFORMATION SYSTEMS - Burnaby</td>\n",
              "      <td>Simon Fraser University</td>\n",
              "      <td>The Beedie School of Business at Simon Fraser ...</td>\n",
              "    </tr>\n",
              "    <tr>\n",
              "      <th>222</th>\n",
              "      <td>Software Engineer II - Automation C++ (Apex Le...</td>\n",
              "      <td>Respawn Entertainment</td>\n",
              "      <td>Software Engineer II – Automation C++Respawn E...</td>\n",
              "    </tr>\n",
              "    <tr>\n",
              "      <th>223</th>\n",
              "      <td>Sr. Product Designer, Terraform</td>\n",
              "      <td>HashiCorp</td>\n",
              "      <td>HashiCorp is at the epicenter of the cloud ado...</td>\n",
              "    </tr>\n",
              "    <tr>\n",
              "      <th>224</th>\n",
              "      <td>Site Reliability Engineer (Senior/Lead/Principal)</td>\n",
              "      <td>Salesforce</td>\n",
              "      <td>Job CategoryProducts and TechnologyJob Details...</td>\n",
              "    </tr>\n",
              "  </tbody>\n",
              "</table>\n",
              "<p>225 rows × 3 columns</p>\n",
              "</div>"
            ],
            "text/plain": [
              "                                             Job Title  ...                                        Description\n",
              "0                               Director, Data Science  ...  Job Description:  On behalf of our global ente...\n",
              "1    Director, Business & Product Insights and Data...  ...  We’re looking for a Director, Business & Produ...\n",
              "2                                        Data Engineer  ...  Posted by:Anne ToAnne ToDirector of Business D...\n",
              "3                              Quantitative Researcher  ...  DRW is a technology-driven, diversified princi...\n",
              "4                 Customer Success Partner - Vancouver  ...  At Infarm we want to help solve one of the tou...\n",
              "..                                                 ...  ...                                                ...\n",
              "220        Intermediate Software Engineer (Algorithms)  ...  From developing computationally intensive imag...\n",
              "221  Lecturer MANAGEMENT INFORMATION SYSTEMS - Burnaby  ...  The Beedie School of Business at Simon Fraser ...\n",
              "222  Software Engineer II - Automation C++ (Apex Le...  ...  Software Engineer II – Automation C++Respawn E...\n",
              "223                    Sr. Product Designer, Terraform  ...  HashiCorp is at the epicenter of the cloud ado...\n",
              "224  Site Reliability Engineer (Senior/Lead/Principal)  ...  Job CategoryProducts and TechnologyJob Details...\n",
              "\n",
              "[225 rows x 3 columns]"
            ]
          },
          "metadata": {
            "tags": []
          },
          "execution_count": 20
        }
      ]
    },
    {
      "cell_type": "code",
      "metadata": {
        "id": "-uri6ndyD7FT",
        "colab_type": "code",
        "colab": {}
      },
      "source": [
        "# writer = pd.ExcelWriter('Linkedin.xlsx')\n",
        "# df_linkedin.to_excel(writer)\n",
        "# writer.save()"
      ],
      "execution_count": 0,
      "outputs": []
    }
  ]
}